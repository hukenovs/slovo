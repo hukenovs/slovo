{
 "cells": [
  {
   "cell_type": "markdown",
   "id": "6477f5d7",
   "metadata": {},
   "source": [
    "## Hand landmark visualization\n",
    "This notebook shows an example how to visualize hand landmarks we generated via [Mediapipe](https://google.github.io/mediapipe/)."
   ]
  },
  {
   "cell_type": "code",
   "execution_count": 52,
   "id": "b53bcf11",
   "metadata": {},
   "outputs": [],
   "source": [
    "import cv2\n",
    "import json\n",
    "import pandas as pd\n",
    "from matplotlib import pyplot as plt"
   ]
  },
  {
   "cell_type": "code",
   "execution_count": 44,
   "id": "933be9de",
   "metadata": {},
   "outputs": [],
   "source": [
    "sample_video = 'path/to/sample_video/44e8d2a0-7e01-450b-90b0-beb7400d2c1e.mp4'\n",
    "sample_id = sample_video.split('/')[-1][:-4]"
   ]
  },
  {
   "cell_type": "code",
   "execution_count": 13,
   "id": "91a05651",
   "metadata": {},
   "outputs": [],
   "source": [
    "# get video width and height\n",
    "df = pd.read_csv('path/to/annotations.csv', sep='\\t')\n",
    "target = df[df['attachment_id'] == sample_id]\n",
    "width, height = int(target['width']), int(target['height'])"
   ]
  },
  {
   "cell_type": "code",
   "execution_count": 42,
   "id": "70b1e7ac",
   "metadata": {},
   "outputs": [],
   "source": [
    "with open('path/to/slovo_mediapipe.json') as file:\n",
    "    landmarks = json.load(file)"
   ]
  },
  {
   "cell_type": "code",
   "execution_count": 96,
   "id": "1a6f7f29",
   "metadata": {},
   "outputs": [],
   "source": [
    "# calculate absolute landmark values\n",
    "landmark_abs = landmarks[sample_id]\n",
    "for frame in landmark_abs:\n",
    "    for hand in frame:\n",
    "        points = frame[hand]\n",
    "        for point in points:\n",
    "            point['x'] *= width\n",
    "            point['y'] *= height"
   ]
  },
  {
   "cell_type": "markdown",
   "id": "756e2f65",
   "metadata": {},
   "source": [
    "For each hand in each frame we have 21 keypoints"
   ]
  },
  {
   "cell_type": "code",
   "execution_count": 53,
   "id": "16a436ba",
   "metadata": {},
   "outputs": [
    {
     "data": {
      "text/html": [
       "<img src=\"https://developers.google.com/static/mediapipe/images/solutions/hand-landmarks.png\"/>"
      ],
      "text/plain": [
       "<IPython.core.display.Image object>"
      ]
     },
     "execution_count": 53,
     "metadata": {},
     "output_type": "execute_result"
    }
   ],
   "source": [
    "from IPython.display import Image\n",
    "Image(url= \"https://developers.google.com/static/mediapipe/images/solutions/hand-landmarks.png\")"
   ]
  },
  {
   "cell_type": "markdown",
   "id": "0b8b595d",
   "metadata": {},
   "source": [
    "*Source: [MediaPipe Solutions Guide](https://developers.google.com/mediapipe/solutions/vision/hand_landmarker)*"
   ]
  },
  {
   "cell_type": "code",
   "execution_count": 97,
   "id": "f7619432",
   "metadata": {},
   "outputs": [],
   "source": [
    "vidcap = cv2.VideoCapture(sample_video)\n",
    "writer = cv2.VideoWriter(\"video_landmarks.mkv\", cv2.VideoWriter_fourcc(*\"h264\"), 30.0, (width, height))\n",
    "for landmark in landmark_abs:\n",
    "    success, frame = vidcap.read()\n",
    "    for hand in landmark:\n",
    "        points = landmark[hand]\n",
    "        for point in points:\n",
    "             out = cv2.circle(frame, [int(point['x']), int(point['y'])], 1, [0,255,0], 3)\n",
    "        writer.write(frame)"
   ]
  },
  {
   "cell_type": "code",
   "execution_count": 98,
   "id": "681e7192",
   "metadata": {},
   "outputs": [
    {
     "data": {
      "text/html": [
       "<video controls autoplay src=\"video_landmarks.mkv\" width=\"640\" height=\"1024\"/>"
      ],
      "text/plain": [
       "<IPython.core.display.HTML object>"
      ]
     },
     "metadata": {},
     "output_type": "display_data"
    }
   ],
   "source": [
    "from IPython.display import display, HTML\n",
    "\n",
    "video_path = \"video_landmarks.mkv\"\n",
    "video_tag = f'<video controls autoplay src=\"{video_path}\" width=\"640\" height=\"1024\"/>'\n",
    "display(HTML(video_tag))"
   ]
  }
 ],
 "metadata": {
  "kernelspec": {
   "display_name": "Python 3 (ipykernel)",
   "language": "python",
   "name": "python3"
  },
  "language_info": {
   "codemirror_mode": {
    "name": "ipython",
    "version": 3
   },
   "file_extension": ".py",
   "mimetype": "text/x-python",
   "name": "python",
   "nbconvert_exporter": "python",
   "pygments_lexer": "ipython3",
   "version": "3.9.13"
  }
 },
 "nbformat": 4,
 "nbformat_minor": 5
}
